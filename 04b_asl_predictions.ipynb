{
  "nbformat": 4,
  "nbformat_minor": 0,
  "metadata": {
    "kernelspec": {
      "display_name": "Python 3",
      "language": "python",
      "name": "python3"
    },
    "language_info": {
      "codemirror_mode": {
        "name": "ipython",
        "version": 3
      },
      "file_extension": ".py",
      "mimetype": "text/x-python",
      "name": "python",
      "nbconvert_exporter": "python",
      "pygments_lexer": "ipython3",
      "version": "3.6.9"
    },
    "colab": {
      "name": "04b_asl_predictions.ipynb",
      "provenance": []
    }
  },
  "cells": [
    {
      "cell_type": "markdown",
      "metadata": {
        "id": "MouMe9uQ71BT"
      },
      "source": [
        "<img src=\"https://github.com/lsteffenel/introDL/blob/main/images/DLI_Header.png?raw=1\" style=\"width: 400px;\">"
      ]
    },
    {
      "cell_type": "markdown",
      "metadata": {
        "id": "z9D107gT71BU"
      },
      "source": [
        "# Deploying Your Model\n",
        "Now that we have a well trained model, it's time to use it. In this exercise, we'll expose new images to our model and detect the correct letters of the sign language alphabet. Let's get started!"
      ]
    },
    {
      "cell_type": "markdown",
      "metadata": {
        "id": "WgJGl9da71BV"
      },
      "source": [
        "## Objectives"
      ]
    },
    {
      "cell_type": "markdown",
      "metadata": {
        "id": "84yV8jur71BW"
      },
      "source": [
        "* Load an already-trained model from disk\n",
        "* Reformat images for a model trained on images of a different format\n",
        "* Perform inference with new images, never seen by the trained model and evaluate its performance"
      ]
    },
    {
      "cell_type": "markdown",
      "metadata": {
        "id": "HkLIQ48I71BW"
      },
      "source": [
        "## Loading the Model\n",
        "Now that we're in a new notebook, let's load the saved model that we trained. \n",
        "\n",
        "Click on the \"folder\" icon to the left and drag/drop the file \"asl_model.tar.gz\" you downloaded in the previous exercice.\n",
        "\n",
        "Then, run the following paragraph:\n"
      ]
    },
    {
      "cell_type": "code",
      "metadata": {
        "id": "JOOXnuSUMnqz"
      },
      "source": [
        "!tar xvzf asl_model.tar.gz"
      ],
      "execution_count": null,
      "outputs": []
    },
    {
      "cell_type": "markdown",
      "metadata": {
        "id": "9eUWWLGDMoHf"
      },
      "source": [
        "\n",
        "Our save from the previous exercise is now in a folder called \"asl_model\". We can load the model by selecting the same folder."
      ]
    },
    {
      "cell_type": "code",
      "metadata": {
        "id": "GLm3mTkK71BX"
      },
      "source": [
        "from tensorflow import keras\n",
        "\n",
        "model = keras.models.load_model('asl_model')"
      ],
      "execution_count": null,
      "outputs": []
    },
    {
      "cell_type": "markdown",
      "metadata": {
        "id": "M4JoZgs_71BY"
      },
      "source": [
        "If you'd like to make sure everything looks intact, you can see the summary of the model again."
      ]
    },
    {
      "cell_type": "code",
      "metadata": {
        "id": "UsHAmodU71BZ"
      },
      "source": [
        "model.summary()"
      ],
      "execution_count": null,
      "outputs": []
    },
    {
      "cell_type": "markdown",
      "metadata": {
        "id": "gEp2ijnb71Ba"
      },
      "source": [
        "## Preparing an Image for the Model"
      ]
    },
    {
      "cell_type": "markdown",
      "metadata": {
        "id": "aLA7FWlf71Ba"
      },
      "source": [
        "It's now time to use the model to make predictions on new images that it's never seen before. This is also called inference. We've given you a set of images in the data/asl_images folder. Try opening it using the left navigation and explore the images.\n",
        "\n",
        "You'll notice that the images we have are much higher resolution than the images in our dataset. They are also in color. Remember that our images in the dataset were 28x28 pixels and grayscale. It's important to keep in mind that whenever you make predictions with a model, the input must match the shape of the data that the model was trained on. For this model, the training dataset was of the shape: (27455, 28, 28, 1). This corresponded to 27455 images of 28 by 28 pixels each with one color channel (grayscale). "
      ]
    },
    {
      "cell_type": "markdown",
      "metadata": {
        "id": "tlOApxsu71Bb"
      },
      "source": [
        "### Showing the Images"
      ]
    },
    {
      "cell_type": "markdown",
      "metadata": {
        "id": "k6-L9bJR71Bc"
      },
      "source": [
        "When we use our model to make predictions on new images, it will be useful to show the image as well. We can use the matplotlib library to do this."
      ]
    },
    {
      "cell_type": "code",
      "metadata": {
        "id": "8ydChjNG71Bc"
      },
      "source": [
        "import matplotlib.pyplot as plt\n",
        "import matplotlib.image as mpimg\n",
        "\n",
        "def show_image(image_path):\n",
        "    image = mpimg.imread(image_path)\n",
        "    plt.imshow(image, cmap='gray')"
      ],
      "execution_count": null,
      "outputs": []
    },
    {
      "cell_type": "code",
      "metadata": {
        "collapsed": true,
        "id": "wBp8Ex-o71Bc"
      },
      "source": [
        "show_image('https://github.com/lsteffenel/introDL/raw/main/data/asl_images/b.png')"
      ],
      "execution_count": null,
      "outputs": []
    },
    {
      "cell_type": "markdown",
      "metadata": {
        "id": "jvQFrPwe71Bd"
      },
      "source": [
        "### Scaling the Images"
      ]
    },
    {
      "cell_type": "markdown",
      "metadata": {
        "id": "BkFrfxhw71Bd"
      },
      "source": [
        "The images in our dataset were 28x28 pixels and grayscale. We need to make sure to pass the same size and grayscale images into our method for prediction. There are a few ways to edit images with Python, but Keras has a built-in utility that works well. "
      ]
    },
    {
      "cell_type": "code",
      "metadata": {
        "id": "4IBkhiBH71Be"
      },
      "source": [
        "from tensorflow.keras.preprocessing import image as image_utils\n",
        "\n",
        "def load_and_scale_image(image_path):\n",
        "    image = image_utils.load_img(image_path, color_mode=\"grayscale\", target_size=(28,28))\n",
        "    return image"
      ],
      "execution_count": null,
      "outputs": []
    },
    {
      "cell_type": "code",
      "metadata": {
        "id": "mEJDBIg271Be"
      },
      "source": [
        "image = load_and_scale_image('https://github.com/lsteffenel/introDL/raw/main/data/asl_images/b.png')\n",
        "plt.imshow(image, cmap='gray')"
      ],
      "execution_count": null,
      "outputs": []
    },
    {
      "cell_type": "markdown",
      "metadata": {
        "id": "VmnLMAX671Bf"
      },
      "source": [
        "### Preparing the Image for Prediction"
      ]
    },
    {
      "cell_type": "markdown",
      "metadata": {
        "id": "vcHiO0_B71Bf"
      },
      "source": [
        "Now that we have a 28x28 pixel grayscale image, we're close to being ready to pass it into our model for prediction. First we need to reshape our image to match the shape of the dataset the model was trained on. Before we can reshape, we need to convert our image into a more rudimentary format. We'll do this with a keras utility called image_to_array."
      ]
    },
    {
      "cell_type": "code",
      "metadata": {
        "id": "MfomGCun71Bf"
      },
      "source": [
        "image = image_utils.img_to_array(image)"
      ],
      "execution_count": null,
      "outputs": []
    },
    {
      "cell_type": "markdown",
      "metadata": {
        "id": "mdSFcUDt71Bg"
      },
      "source": [
        "Now we can reshape our image to get it ready for prediction."
      ]
    },
    {
      "cell_type": "code",
      "metadata": {
        "id": "8TnMCPs571Bg"
      },
      "source": [
        "# This reshape corresponds to 1 image of 28x28 pixels with one color channel\n",
        "image = image.reshape(1,28,28,1) "
      ],
      "execution_count": null,
      "outputs": []
    },
    {
      "cell_type": "markdown",
      "metadata": {
        "id": "Edryoeqs71Bg"
      },
      "source": [
        "Finally, we should remember to normalize our data (making all values between 0-1), as we did with our training dataset:"
      ]
    },
    {
      "cell_type": "code",
      "metadata": {
        "id": "EXonC7KY71Bg"
      },
      "source": [
        "image = image / 255"
      ],
      "execution_count": null,
      "outputs": []
    },
    {
      "cell_type": "markdown",
      "metadata": {
        "id": "hEd0_x2Z71Bh"
      },
      "source": [
        "## Making Predictions\n",
        "\n",
        "Okay, now we're ready to predict! This is done by passing our pre-processed image into the model's predict method. "
      ]
    },
    {
      "cell_type": "code",
      "metadata": {
        "id": "5J4ylMAD71Bh"
      },
      "source": [
        "prediction = model.predict(image)\n",
        "print(prediction)"
      ],
      "execution_count": null,
      "outputs": []
    },
    {
      "cell_type": "markdown",
      "metadata": {
        "id": "Lvmcokio71Bh"
      },
      "source": [
        "### Understanding the Prediction"
      ]
    },
    {
      "cell_type": "markdown",
      "metadata": {
        "id": "5cMiByoe71Bk"
      },
      "source": [
        "The predictions are in the format of a 24 length array. Though it looks a bit different, this is the same format as our \"binarized\" categorical arrays from y_train and y_test. Each element of the array is a probability between 0 and 1, representing the confidence for each category. Let's make it a little more readable. We can start by finding which element of the array represents the highest probability. This can be done easily with the numpy library and the [argmax](https://numpy.org/doc/stable/reference/generated/numpy.argmax.html) function."
      ]
    },
    {
      "cell_type": "code",
      "metadata": {
        "id": "M5xSM1lM71Bl"
      },
      "source": [
        "import numpy as np\n",
        "np.argmax(prediction)"
      ],
      "execution_count": null,
      "outputs": []
    },
    {
      "cell_type": "markdown",
      "metadata": {
        "id": "pm9C4-z_71Bl"
      },
      "source": [
        "Each element of the prediction array represents a possible letter in the sign language alphabet. Remember that j and z are not options because they involve moving the hand, and we're only dealing with still photos. Let's create a mapping between the index of the predictions array, and the corresponding letter. "
      ]
    },
    {
      "cell_type": "code",
      "metadata": {
        "id": "IyCZzR9271Bl"
      },
      "source": [
        "# Alphabet does not contain j or z because they require movement\n",
        "alphabet = \"abcdefghiklmnopqrstuvwxy\"\n",
        "dictionary = {}\n",
        "for i in range(24):\n",
        "    dictionary[i] = alphabet[i]\n",
        "dictionary"
      ],
      "execution_count": null,
      "outputs": []
    },
    {
      "cell_type": "markdown",
      "metadata": {
        "id": "dIKpaFU071Bl"
      },
      "source": [
        "We can now pass in our prediction index to find the corresponding letter."
      ]
    },
    {
      "cell_type": "code",
      "metadata": {
        "id": "l-A0Bpb671Bl"
      },
      "source": [
        "dictionary[np.argmax(prediction)]"
      ],
      "execution_count": null,
      "outputs": []
    },
    {
      "cell_type": "markdown",
      "metadata": {
        "id": "OZX-IOuy71Bm"
      },
      "source": [
        "## Exercise: Put it all Together"
      ]
    },
    {
      "cell_type": "markdown",
      "metadata": {
        "id": "HtCmx1Gr71Bm"
      },
      "source": [
        "Let's put everything in a function so that we can make predictions just from the image file. Implement it in the function below using the functions and steps above. If you need help, you can reveal the solution by clicking the three dots below."
      ]
    },
    {
      "cell_type": "code",
      "metadata": {
        "id": "Du1HbSTz71Bm"
      },
      "source": [
        "def predict_letter(file_path):\n",
        "    # Show image\n",
        "    FIXME\n",
        "    # Load and scale image\n",
        "    image = FIXME\n",
        "    # Convert to array\n",
        "    image = FIXME\n",
        "    # Reshape image\n",
        "    image = FIXME\n",
        "    # Normalize image\n",
        "    image = FIXME\n",
        "    # Make prediction\n",
        "    prediction = FIXME\n",
        "    # Convert prediction to letter\n",
        "    predicted_letter = FIXME\n",
        "    # Return prediction\n",
        "    return predicted_letter   "
      ],
      "execution_count": null,
      "outputs": []
    },
    {
      "cell_type": "markdown",
      "metadata": {
        "id": "wN4WQMZj71Bm"
      },
      "source": [
        "## Solution"
      ]
    },
    {
      "cell_type": "markdown",
      "metadata": {
        "id": "TgRYW-8v71Bm"
      },
      "source": [
        "Click on the '...' below to view the solution."
      ]
    },
    {
      "cell_type": "markdown",
      "metadata": {
        "jupyter": {
          "source_hidden": true
        },
        "id": "M4836sWG71Bn"
      },
      "source": [
        "```python\n",
        "def predict_letter(file_path):\n",
        "    show_image(file_path)\n",
        "    image = load_and_scale_image(file_path)\n",
        "    image = image_utils.img_to_array(image)\n",
        "    image = image.reshape(1,28,28,1) \n",
        "    image = image/255\n",
        "    prediction = model.predict(image)\n",
        "    # convert prediction to letter\n",
        "    predicted_letter = dictionary[np.argmax(prediction)]\n",
        "    return predicted_letter\n",
        "```"
      ]
    },
    {
      "cell_type": "code",
      "metadata": {
        "id": "FjqdXG4l71Bn"
      },
      "source": [
        "predict_letter(\"https://github.com/lsteffenel/introDL/raw/main/data/asl_images/b.png\")"
      ],
      "execution_count": null,
      "outputs": []
    },
    {
      "cell_type": "markdown",
      "metadata": {
        "id": "qdjUw5jo71Bn"
      },
      "source": [
        "Let's also use the function with the 'a' letter in the asl_images datset:"
      ]
    },
    {
      "cell_type": "code",
      "metadata": {
        "id": "oCn-kxM771Bn"
      },
      "source": [
        "predict_letter(\"https://github.com/lsteffenel/introDL/raw/main/data/asl_images/a.png\")"
      ],
      "execution_count": null,
      "outputs": []
    },
    {
      "cell_type": "markdown",
      "metadata": {
        "id": "ZBZkMXpG71Bn"
      },
      "source": [
        "## Summary"
      ]
    },
    {
      "cell_type": "markdown",
      "metadata": {
        "id": "BJIxYCb071Bn"
      },
      "source": [
        "Great work on these exercises! You've gone through the full process of training a highly accurate model from scratch, and then using the model to make new and valuable predictions. If you have some time, we encourage you to take pictures with your webcam, upload them by dropping them into the data/asl_data folder, and test out the model on them. For Mac you can use Photo Booth. For windows you can select the Camera app from your start screen. We hope you try it. It's a good opportunity to learn some sign language! For instance, try out the letters of your name.\n",
        "\n",
        "We can imagine how this model could be used in an application to teach someone sign language, or even help someone who cannot speak interact with a computer. If you're comfortable with web development, models can even be used in the browser with a library called [TensorFlow.js](https://www.tensorflow.org/js)."
      ]
    },
    {
      "cell_type": "markdown",
      "metadata": {
        "id": "BHS46NYe71Bo"
      },
      "source": [
        "## Clear the Memory"
      ]
    },
    {
      "cell_type": "markdown",
      "metadata": {
        "id": "6L_V_KcU71Bo"
      },
      "source": [
        "Before moving on, please execute the following cell to clear up the GPU memory."
      ]
    },
    {
      "cell_type": "code",
      "metadata": {
        "id": "7AwDrRj971Bo"
      },
      "source": [
        "import IPython\n",
        "app = IPython.Application.instance()\n",
        "app.kernel.do_shutdown(True)"
      ],
      "execution_count": null,
      "outputs": []
    },
    {
      "cell_type": "markdown",
      "metadata": {
        "id": "xqXK1bls71Bo"
      },
      "source": [
        "## Next"
      ]
    },
    {
      "cell_type": "markdown",
      "metadata": {
        "id": "azhYJMVl71Bo"
      },
      "source": [
        "We hope you've enjoyed these exercises. In the next sections we will learn how to take advantage of deep learning when we don't have a robust dataset available. See you there!\n",
        "To learn more about inference on the edge, check out [this nice paper](https://research.fb.com/wp-content/uploads/2018/12/Machine-Learning-at-Facebook-Understanding-Inference-at-the-Edge.pdf) on the topic."
      ]
    },
    {
      "cell_type": "markdown",
      "metadata": {
        "id": "knghYcXK71Bo"
      },
      "source": [
        "Now that we're familiar building your own models and have some understanding of how they work, we will turn our attention to the very powerful technique of using pre-trained models to expedite your work."
      ]
    }
  ]
}