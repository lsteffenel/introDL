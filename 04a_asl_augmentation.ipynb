{
  "nbformat": 4,
  "nbformat_minor": 0,
  "metadata": {
    "kernelspec": {
      "display_name": "Python 3",
      "language": "python",
      "name": "python3"
    },
    "language_info": {
      "codemirror_mode": {
        "name": "ipython",
        "version": 3
      },
      "file_extension": ".py",
      "mimetype": "text/x-python",
      "name": "python",
      "nbconvert_exporter": "python",
      "pygments_lexer": "ipython3",
      "version": "3.6.9"
    },
    "colab": {
      "name": "04a_asl_augmentation.ipynb",
      "provenance": []
    }
  },
  "cells": [
    {
      "cell_type": "markdown",
      "metadata": {
        "id": "mLSxESCT5sVB"
      },
      "source": [
        "<img src=\"https://github.com/lsteffenel/introDL/blob/main/images/DLI_Header.png?raw=1\" style=\"width: 400px;\">"
      ]
    },
    {
      "cell_type": "markdown",
      "metadata": {
        "id": "IGOmNElE5sVD"
      },
      "source": [
        "# Data Augmentation"
      ]
    },
    {
      "cell_type": "markdown",
      "metadata": {
        "id": "KKfq3iuP5sVE"
      },
      "source": [
        "So far, we've selected a model architecture that vastly improves the model's performance, as it is designed to recognize important features in the images. The validation accuracy is still lagging behind the training accuracy, which is a sign of overfitting: the model is getting confused by things it has not seen before when it tests against the validation dataset.\n",
        "\n",
        "In order to teach our model to be more robust when looking at new data, we're going to programmatically increase the size and variance in our dataset. This is known as [*data augmentation*](https://link.springer.com/article/10.1186/s40537-019-0197-0), a useful technique for many deep learning applications.\n",
        "\n",
        "The increase in size gives the model more images to learn from while training. The increase in variance helps the model ignore unimportant features and select only the features that are truly important in classification, allowing it to generalize better."
      ]
    },
    {
      "cell_type": "markdown",
      "metadata": {
        "id": "h1E0IaqZ5sVF"
      },
      "source": [
        "## Objectives"
      ]
    },
    {
      "cell_type": "markdown",
      "metadata": {
        "id": "u6n3EXwi5sVF"
      },
      "source": [
        "* Augment the ASL dataset\n",
        "* Use the augmented data to train an improved model\n",
        "* Save the well-trained model to disk for use in deployment"
      ]
    },
    {
      "cell_type": "markdown",
      "metadata": {
        "id": "fFmYEfUE5sVF"
      },
      "source": [
        "## Preparing the Data"
      ]
    },
    {
      "cell_type": "markdown",
      "metadata": {
        "id": "NRFa0ZX35sVG"
      },
      "source": [
        "As we're in a new notebook, we will load and process our data again. To do this, execute the following cell:"
      ]
    },
    {
      "cell_type": "code",
      "metadata": {
        "id": "S_8ATS4m5sVH"
      },
      "source": [
        "import tensorflow.keras as keras\n",
        "import pandas as pd\n",
        "\n",
        "# Load in our data from CSV files\n",
        "train_df = pd.read_csv(\"https://raw.githubusercontent.com/samurainote/CNN_for_Sign_Language_Images/master/sign_mnist_train.csv\")\n",
        "valid_df = pd.read_csv(\"https://raw.githubusercontent.com/samurainote/CNN_for_Sign_Language_Images/master/sign_mnist_test.csv\")\n",
        "\n",
        "# Separate out our target values\n",
        "y_train = train_df['label']\n",
        "y_valid = valid_df['label']\n",
        "del train_df['label']\n",
        "del valid_df['label']\n",
        "\n",
        "# Separate our our image vectors\n",
        "x_train = train_df.values\n",
        "x_valid = valid_df.values\n",
        "\n",
        "# Turn our scalar targets into binary categories\n",
        "num_classes = 24\n",
        "y_train = keras.utils.to_categorical(y_train, num_classes)\n",
        "y_valid = keras.utils.to_categorical(y_valid, num_classes)\n",
        "\n",
        "# Normalize our image data\n",
        "x_train = x_train / 255\n",
        "x_valid = x_valid / 255\n",
        "\n",
        "# Reshape the image data for the convolutional network\n",
        "x_train = x_train.reshape(-1,28,28,1)\n",
        "x_valid = x_valid.reshape(-1,28,28,1)"
      ],
      "execution_count": null,
      "outputs": []
    },
    {
      "cell_type": "markdown",
      "metadata": {
        "id": "fCNOidn-5sVJ"
      },
      "source": [
        "## Model Creation"
      ]
    },
    {
      "cell_type": "markdown",
      "metadata": {
        "id": "olT_7f7f5sVJ"
      },
      "source": [
        "We will also need to create our model again. To do this, execute the following cell. You will notice this is the same model architecture as the last section:"
      ]
    },
    {
      "cell_type": "code",
      "metadata": {
        "id": "H5X7-eOc5sVK"
      },
      "source": [
        "from tensorflow.keras.models import Sequential\n",
        "from tensorflow.keras.layers import (\n",
        "    Dense,\n",
        "    Conv2D,\n",
        "    MaxPool2D,\n",
        "    Flatten,\n",
        "    Dropout,\n",
        "    BatchNormalization,\n",
        ")\n",
        "\n",
        "model = Sequential()\n",
        "model.add(Conv2D(75, (3, 3), strides=1, padding=\"same\", activation=\"relu\", \n",
        "                 input_shape=(28, 28, 1)))\n",
        "model.add(BatchNormalization())\n",
        "model.add(MaxPool2D((2, 2), strides=2, padding=\"same\"))\n",
        "model.add(Conv2D(50, (3, 3), strides=1, padding=\"same\", activation=\"relu\"))\n",
        "model.add(Dropout(0.2))\n",
        "model.add(BatchNormalization())\n",
        "model.add(MaxPool2D((2, 2), strides=2, padding=\"same\"))\n",
        "model.add(Conv2D(25, (3, 3), strides=1, padding=\"same\", activation=\"relu\"))\n",
        "model.add(BatchNormalization())\n",
        "model.add(MaxPool2D((2, 2), strides=2, padding=\"same\"))\n",
        "model.add(Flatten())\n",
        "model.add(Dense(units=512, activation=\"relu\"))\n",
        "model.add(Dropout(0.3))\n",
        "model.add(Dense(units=num_classes, activation=\"softmax\"))"
      ],
      "execution_count": null,
      "outputs": []
    },
    {
      "cell_type": "markdown",
      "metadata": {
        "id": "yKbHGOGe5sVL"
      },
      "source": [
        "## Data Augmentation"
      ]
    },
    {
      "cell_type": "markdown",
      "metadata": {
        "id": "6XRNAvLE5sVL"
      },
      "source": [
        "Before compiling the model, it's time to set up our data augmentation.\n",
        "\n",
        "Keras comes with an image augmentation class called `ImageDataGenerator`. We recommend checking out the [documentation here](https://keras.io/api/preprocessing/image/#imagedatagenerator-class). It accepts a series of options for augmenting your data. Later in the course, we'll have you select a proper augmentation strategy. For now, take a look at the options we've selected below, and then execute the cell to create an instance of the class:"
      ]
    },
    {
      "cell_type": "code",
      "metadata": {
        "id": "X1veoSAT5sVL"
      },
      "source": [
        "from tensorflow.keras.preprocessing.image import ImageDataGenerator\n",
        "\n",
        "datagen = ImageDataGenerator(\n",
        "    rotation_range=10,  # randomly rotate images in the range (degrees, 0 to 180)\n",
        "    zoom_range=0.1,  # Randomly zoom image\n",
        "    width_shift_range=0.1,  # randomly shift images horizontally (fraction of total width)\n",
        "    height_shift_range=0.1,  # randomly shift images vertically (fraction of total height)\n",
        "    horizontal_flip=True,  # randomly flip images horizontally\n",
        "    vertical_flip=False, # Don't randomly flip images vertically\n",
        ")  "
      ],
      "execution_count": null,
      "outputs": []
    },
    {
      "cell_type": "markdown",
      "metadata": {
        "id": "QV6HxO4b5sVM"
      },
      "source": [
        "Take a moment to think about why we would want to flip images horizontally, but not vertically. When you have an idea, reveal the text below."
      ]
    },
    {
      "cell_type": "markdown",
      "metadata": {
        "id": "d9b6Ly-z5sVM"
      },
      "source": [
        "Our dataset is pictures of hands signing the alphabet. If we want to use this model to classify hand images later, it's unlikely that those hands are going to be upside-down, but, they might be left-handed. This kind of domain-specific reasoning can help make good decisions for your own deep learning applications."
      ]
    },
    {
      "cell_type": "markdown",
      "metadata": {
        "id": "bXnQ-FO_5sVM"
      },
      "source": [
        "## Batch Size\n",
        "Another benefit of the `ImageDataGenerator` is that it [batches](https://machinelearningmastery.com/how-to-control-the-speed-and-stability-of-training-neural-networks-with-gradient-descent-batch-size/) our data so that our model can train on a random sample.\n",
        "\n",
        "If the model is [truly random](http://sites.utexas.edu/sos/random/), meaning that the data is properly shuffled so it's fair like a deck of cards, then our sample can do a good job of representing all of our data even though it is a tiny fraction of the population. For each step of the training, the model will be dealt a new batch.\n",
        "\n",
        "In practice, a batch size of 32 and 64 does well. Run the cell below to see what kind of batches we'll be training our model with. Is our randomizer fairly randomizing? Are all of the images recognizable ASL letters?"
      ]
    },
    {
      "cell_type": "code",
      "metadata": {
        "id": "ve2p9iHn5sVN"
      },
      "source": [
        "import matplotlib.pyplot as plt\n",
        "import numpy as np\n",
        "batch_size = 32\n",
        "img_iter = datagen.flow(x_train, y_train, batch_size=batch_size)\n",
        "\n",
        "x, y = img_iter.next()\n",
        "fig, ax = plt.subplots(nrows=4, ncols=8)\n",
        "for i in range(batch_size):\n",
        "    image = x[i]\n",
        "    ax.flatten()[i].imshow(np.squeeze(image))\n",
        "plt.show()"
      ],
      "execution_count": null,
      "outputs": []
    },
    {
      "cell_type": "markdown",
      "metadata": {
        "id": "Ovftz6--5sVN"
      },
      "source": [
        "## Fitting the Data to the Generator"
      ]
    },
    {
      "cell_type": "markdown",
      "metadata": {
        "id": "Jyrjs1-J5sVN"
      },
      "source": [
        "Next, the generator must be fit on the training dataset."
      ]
    },
    {
      "cell_type": "code",
      "metadata": {
        "id": "TtoQGC625sVO"
      },
      "source": [
        "datagen.fit(x_train)"
      ],
      "execution_count": null,
      "outputs": []
    },
    {
      "cell_type": "markdown",
      "metadata": {
        "id": "S4Fqjkhx5sVO"
      },
      "source": [
        "## Compiling the Model"
      ]
    },
    {
      "cell_type": "markdown",
      "metadata": {
        "id": "mJnw8vi75sVO"
      },
      "source": [
        "With the data generator instance created and fit to the training data, the model can now be compiled in the same way as our earlier examples:"
      ]
    },
    {
      "cell_type": "code",
      "metadata": {
        "id": "jxudBRjQ5sVO"
      },
      "source": [
        "model.compile(loss='categorical_crossentropy', metrics=['accuracy'])"
      ],
      "execution_count": null,
      "outputs": []
    },
    {
      "cell_type": "markdown",
      "metadata": {
        "id": "vQpyzIP65sVP"
      },
      "source": [
        "## Training with Augmentation"
      ]
    },
    {
      "cell_type": "markdown",
      "metadata": {
        "id": "L7g0CnJx5sVP"
      },
      "source": [
        "When using an image data generator with Keras, a model trains a bit differently: instead of just passing the `x_train` and `y_train` datasets into the model, we pass the generator in, calling the generator's [flow](https://keras.io/api/preprocessing/image/) method. This causes the images to get augmented live and in memory right before they are passed into the model for training.\n",
        "\n",
        "Generators can supply an indefinite amount of data, and when we use them to train our data, we need to explicitly set how long we want each epoch to run, or else the epoch will go on indefinitely, with the generator creating an indefinite number of augmented images to provide the model.\n",
        "\n",
        "We explicitly set how long we want each epoch to run using the `steps_per_epoch` named argument. Because `steps * batch_size = number_of_images_trained in an epoch` a common practice, that we will use here, is to set the number of steps equal to the non-augmented dataset size divided by the batch_size (which has a default value of 32).\n",
        "\n",
        "Run the following cell to see the results. The training will take longer than before, which makes sense given we are now training on more data than previously:"
      ]
    },
    {
      "cell_type": "code",
      "metadata": {
        "id": "hxSnNZeS5sVP"
      },
      "source": [
        "model.fit(img_iter,\n",
        "          epochs=20,\n",
        "          steps_per_epoch=len(x_train)/batch_size, # Run same number of steps we would if we were not using a generator.\n",
        "          validation_data=(x_valid, y_valid))"
      ],
      "execution_count": null,
      "outputs": []
    },
    {
      "cell_type": "markdown",
      "metadata": {
        "id": "kEME59F05sVP"
      },
      "source": [
        "## Discussion of Results"
      ]
    },
    {
      "cell_type": "markdown",
      "metadata": {
        "id": "d5TOH68z5sVP"
      },
      "source": [
        "You will notice that the validation accuracy is higher, and more consistent. This means that our model is no longer overfitting in the way it was; it generalizes better, making better predictions on new data."
      ]
    },
    {
      "cell_type": "markdown",
      "metadata": {
        "id": "PqlvmYon5sVQ"
      },
      "source": [
        "## Saving the Model"
      ]
    },
    {
      "cell_type": "markdown",
      "metadata": {
        "id": "TrBy-zOR5sVQ"
      },
      "source": [
        "Now that we have a well-trained model, we will want to deploy it to perform inference on new images.\n",
        "\n",
        "It is common, once we have a trained model that we are happy with to save it to disk.\n",
        "\n",
        "Saving the model in Keras is quite easy using the save method. There are different formats that we can save in, but we'll use the default for now. If you'd like, feel free to check out [the documentation](https://www.tensorflow.org/guide/keras/save_and_serialize). In the next notebook, we'll load the model and use it to read new sign language pictures:"
      ]
    },
    {
      "cell_type": "code",
      "metadata": {
        "id": "qTIJEP1a5sVQ"
      },
      "source": [
        "model.save('asl_model')"
      ],
      "execution_count": null,
      "outputs": []
    },
    {
      "cell_type": "markdown",
      "metadata": {
        "id": "YBiAppGv5sVQ"
      },
      "source": [
        "## Summary"
      ]
    },
    {
      "cell_type": "markdown",
      "metadata": {
        "id": "M2gSGsZi5sVQ"
      },
      "source": [
        "In this section you used Keras to augment your dataset, the result being a trained model with less overfitting and excellent validation image results."
      ]
    },
    {
      "cell_type": "markdown",
      "metadata": {
        "id": "gkvKo7IM5sVQ"
      },
      "source": [
        "### Clear the Memory\n",
        "Before moving on, please execute the following cell to clear up the GPU memory."
      ]
    },
    {
      "cell_type": "code",
      "metadata": {
        "id": "XUIXUOq85sVR"
      },
      "source": [
        "import IPython\n",
        "app = IPython.Application.instance()\n",
        "app.kernel.do_shutdown(True)"
      ],
      "execution_count": null,
      "outputs": []
    },
    {
      "cell_type": "markdown",
      "metadata": {
        "id": "0t51q7Oy5sVR"
      },
      "source": [
        "## Next"
      ]
    },
    {
      "cell_type": "markdown",
      "metadata": {
        "id": "WgUdy4XT5sVR"
      },
      "source": [
        "Now that you have a well-trained model saved to disk, you will, in the next section, deploy it to make predictions on not-yet-seen images.\n",
        "\n",
        "Please continue to the next notebook: [*Model Predictions*](04b_asl_predictions.ipynb)."
      ]
    }
  ]
}